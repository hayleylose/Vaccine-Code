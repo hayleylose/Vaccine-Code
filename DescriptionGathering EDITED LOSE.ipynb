{
 "cells": [
  {
   "cell_type": "markdown",
   "metadata": {},
   "source": [
    "## Gather Follower Descriptions\n",
    "We start with a twitter user name (as well as things like twitter credentials) and pull all the followers of that user. We then pull the descriptions of those users and write them to a file for future mining. You can use more than one user in a group.\n",
    "\n",
    "I wrote some functions for you in the file `twitter_functions.py`. This will need to be in the same folder where you're running this notebook. "
   ]
  },
  {
   "cell_type": "code",
   "execution_count": 1,
   "metadata": {
    "collapsed": true
   },
   "outputs": [],
   "source": [
    "from datetime import datetime\n",
    "import json\n",
    "from twitter_functions import * # these are the functions I wrote for you."
   ]
  },
  {
   "cell_type": "markdown",
   "metadata": {},
   "source": [
    "The next cell holds your Twitter authorization credentials. Then it calls a function that initializes your connection to Twitter. I've left my keys in there (slightly perturbed so that they won't actually work) so that you see the form these take)."
   ]
  },
  {
   "cell_type": "code",
   "execution_count": 2,
   "metadata": {
    "collapsed": true
   },
   "outputs": [],
   "source": [
    "auth =  { \"consumer_key\": \"zNf902L1N3KJ0KICsJZPs4FxS\",\n",
    "          \"consumer_secret\": \"MvKCr3x2Z2VM1Tekzq7mMdnxqMzc6BUNgRkyvQXNp0OjuZ7KwH\",\n",
    "          \"access_key\": \"922636098081234944-xnes1B7sbaLJJXAZ96xmZNLg0YvARzo\",\n",
    "          \"access_secret\": \"BqZvcKvMYLqMGhlqO4eGiyR1F5w5i1Pt5RbvWxDozVYI9\"\n",
    "        }\n",
    "\n",
    "api = initialize_twitter(auth)"
   ]
  },
  {
   "cell_type": "markdown",
   "metadata": {},
   "source": [
    "Now you set the handle (or handles) that represent one group or topic on Twitter. These should be in a list. The output file name (`ofile_name`) is determined based on today's date and the first element in the list. Feel free to modify. "
   ]
  },
  {
   "cell_type": "code",
   "execution_count": 3,
   "metadata": {
    "collapsed": true
   },
   "outputs": [],
   "source": [
    "#starting_user = ['HealthRanger'] # my first group\n",
    "starting_user = ['TannersDad'] # my second group\n",
    "\n",
    "\n",
    "ofile_name = (datetime.today().strftime(\"%Y%m%d\") + \"_\" + \n",
    "             starting_user[0] + \"_\" + # Just take the first one if there are multiple\n",
    "             \"followers.txt\")"
   ]
  },
  {
   "cell_type": "code",
   "execution_count": 4,
   "metadata": {},
   "outputs": [
    {
     "name": "stdout",
     "output_type": "stream",
     "text": [
      "Start lookup_users_from_ids on 1 handles.\n",
      "20171213-185255: looking up user records for 1 handles.\n",
      "20171213-185256:  users pulled:  1\n",
      "total failures: 0\n"
     ]
    }
   ],
   "source": [
    "# We'll now go lookup the full information on your starting user(s). \n",
    "starting_user_id = []\n",
    "\n",
    "# All records will be a dictionary with the twitter ID as the key and \n",
    "# a UserRecord as the value. This is a named tuple I created. \n",
    "all_records = lookup_users_from_handles(api, starting_user)\n",
    "\n",
    "# We need the IDs that we're getting followers from in a list. \n",
    "for id in all_records : #access the keys, which are ids.\n",
    "    starting_user_id.append(id)"
   ]
  },
  {
   "cell_type": "code",
   "execution_count": 5,
   "metadata": {},
   "outputs": [
    {
     "name": "stdout",
     "output_type": "stream",
     "text": [
      "A complete run with no limits run is going to take 4.31 minutes (0.07 hours)\n"
     ]
    }
   ],
   "source": [
    "# How long is it going to take us to pull these followers?\n",
    "total_followers = 0\n",
    "for id, rec in all_records.items() :\n",
    "    total_followers += rec.followers_count\n",
    "    \n",
    "print(\"A complete run with no limits run is \" + \n",
    "      \"going to take {min:.2f} minutes ({hour:.2f} hours)\".format(min=total_followers/5000,\n",
    "                                                                              hour=total_followers/(60*5000)))"
   ]
  },
  {
   "cell_type": "code",
   "execution_count": 6,
   "metadata": {},
   "outputs": [
    {
     "name": "stdout",
     "output_type": "stream",
     "text": [
      "Pulling followers for 16854311\n",
      "Number pulled: 5000\n",
      "Number pulled: 10000\n",
      "Number pulled: 15000\n",
      "Number pulled: 20000\n",
      "Number pulled: 21533\n"
     ]
    }
   ],
   "source": [
    "# Now let's pull all the followers of our starting_user\n",
    "# the function I wrote allows you to cap the number of followers you pull\n",
    "# and uses the ID to generate the query.\n",
    "# \n",
    "# Note that this pull is subject to rate limiting. You can make 15 calls per\n",
    "# 15 minute window and each can return 5000 users. \n",
    "followers_of_starting = gather_followers(api,\n",
    "                                         starting_user_id,\n",
    "                                         follower_limit=None) # Modify this limit if you need to. Set it to \"None\" to get all   \n",
    "\n",
    "# followers_of_starting will be a dictionary with the key being the id(s) in starting_user_id\n",
    "# and the value is a list of all the followers."
   ]
  },
  {
   "cell_type": "code",
   "execution_count": 7,
   "metadata": {},
   "outputs": [
    {
     "name": "stdout",
     "output_type": "stream",
     "text": [
      "Start lookup_users_from_ids on 21533 IDs.\n",
      "20171213-185309: looking up user records for 100 IDs.\n",
      "20171213-185310: looking up user records for 100 IDs.\n",
      "20171213-185311: looking up user records for 100 IDs.\n",
      "20171213-185312: looking up user records for 100 IDs.\n",
      "20171213-185314: looking up user records for 100 IDs.\n",
      "20171213-185315: looking up user records for 100 IDs.\n",
      "20171213-185316: looking up user records for 100 IDs.\n",
      "20171213-185317: looking up user records for 100 IDs.\n",
      "20171213-185318: looking up user records for 100 IDs.\n",
      "20171213-185319: looking up user records for 100 IDs.\n",
      "20171213-185320: looking up user records for 100 IDs.\n",
      "20171213-185321: looking up user records for 100 IDs.\n",
      "20171213-185323: looking up user records for 100 IDs.\n",
      "20171213-185324: looking up user records for 100 IDs.\n",
      "20171213-185325: looking up user records for 100 IDs.\n",
      "20171213-185326: looking up user records for 100 IDs.\n",
      "20171213-185327: looking up user records for 100 IDs.\n",
      "20171213-185328: looking up user records for 100 IDs.\n",
      "20171213-185329: looking up user records for 100 IDs.\n",
      "20171213-185330: looking up user records for 100 IDs.\n",
      "20171213-185332: looking up user records for 100 IDs.\n",
      "20171213-185333: looking up user records for 100 IDs.\n",
      "20171213-185334: looking up user records for 100 IDs.\n",
      "20171213-185335: looking up user records for 100 IDs.\n",
      "20171213-185337: looking up user records for 100 IDs.\n",
      "20171213-185338: looking up user records for 100 IDs.\n",
      "20171213-185340: looking up user records for 100 IDs.\n",
      "20171213-185341: looking up user records for 100 IDs.\n",
      "20171213-185342: looking up user records for 100 IDs.\n",
      "20171213-185343: looking up user records for 100 IDs.\n",
      "20171213-185345: looking up user records for 100 IDs.\n",
      "20171213-185346: looking up user records for 100 IDs.\n",
      "20171213-185347: looking up user records for 100 IDs.\n",
      "20171213-185349: looking up user records for 100 IDs.\n",
      "20171213-185350: looking up user records for 100 IDs.\n",
      "20171213-185351: looking up user records for 100 IDs.\n",
      "20171213-185352: looking up user records for 100 IDs.\n",
      "20171213-185353: looking up user records for 100 IDs.\n",
      "20171213-185354: looking up user records for 100 IDs.\n",
      "20171213-185355: looking up user records for 100 IDs.\n",
      "20171213-185356: looking up user records for 100 IDs.\n",
      "20171213-185358: looking up user records for 100 IDs.\n",
      "20171213-185359: looking up user records for 100 IDs.\n",
      "20171213-185400: looking up user records for 100 IDs.\n",
      "20171213-185401: looking up user records for 100 IDs.\n",
      "20171213-185403: looking up user records for 100 IDs.\n",
      "20171213-185404: looking up user records for 100 IDs.\n",
      "20171213-185405: looking up user records for 100 IDs.\n",
      "20171213-185406: looking up user records for 100 IDs.\n",
      "20171213-185408: looking up user records for 100 IDs.\n",
      "20171213-185409: looking up user records for 100 IDs.\n",
      "20171213-185410: looking up user records for 100 IDs.\n",
      "20171213-185411: looking up user records for 100 IDs.\n",
      "20171213-185413: looking up user records for 100 IDs.\n",
      "20171213-185414: looking up user records for 100 IDs.\n",
      "20171213-185415: looking up user records for 100 IDs.\n",
      "20171213-185416: looking up user records for 100 IDs.\n",
      "20171213-185417: looking up user records for 100 IDs.\n",
      "20171213-185419: looking up user records for 100 IDs.\n",
      "20171213-185420: looking up user records for 100 IDs.\n",
      "20171213-185421: looking up user records for 100 IDs.\n",
      "20171213-185422: looking up user records for 100 IDs.\n",
      "20171213-185423: looking up user records for 100 IDs.\n",
      "20171213-185425: looking up user records for 100 IDs.\n",
      "20171213-185426: looking up user records for 100 IDs.\n",
      "20171213-185427: looking up user records for 100 IDs.\n",
      "20171213-185429: looking up user records for 100 IDs.\n",
      "20171213-185430: looking up user records for 100 IDs.\n",
      "20171213-185431: looking up user records for 100 IDs.\n",
      "20171213-185433: looking up user records for 100 IDs.\n",
      "20171213-185434: looking up user records for 100 IDs.\n",
      "20171213-185435: looking up user records for 100 IDs.\n",
      "20171213-185436: looking up user records for 100 IDs.\n",
      "20171213-185437: looking up user records for 100 IDs.\n",
      "20171213-185439: looking up user records for 100 IDs.\n",
      "20171213-185440: looking up user records for 100 IDs.\n",
      "20171213-185442: looking up user records for 100 IDs.\n",
      "20171213-185443: looking up user records for 100 IDs.\n",
      "20171213-185444: looking up user records for 100 IDs.\n",
      "20171213-185445: looking up user records for 100 IDs.\n",
      "20171213-185446: looking up user records for 100 IDs.\n",
      "20171213-185447: looking up user records for 100 IDs.\n",
      "20171213-185449: looking up user records for 100 IDs.\n",
      "20171213-185450: looking up user records for 100 IDs.\n",
      "20171213-185451: looking up user records for 100 IDs.\n",
      "20171213-185452: looking up user records for 100 IDs.\n",
      "20171213-185453: looking up user records for 100 IDs.\n",
      "20171213-185454: looking up user records for 100 IDs.\n",
      "20171213-185456: looking up user records for 100 IDs.\n",
      "20171213-185457: looking up user records for 100 IDs.\n",
      "20171213-185459: looking up user records for 100 IDs.\n",
      "20171213-185500: looking up user records for 100 IDs.\n",
      "20171213-185501: looking up user records for 100 IDs.\n",
      "20171213-185503: looking up user records for 100 IDs.\n",
      "20171213-185504: looking up user records for 100 IDs.\n",
      "20171213-185505: looking up user records for 100 IDs.\n",
      "20171213-185507: looking up user records for 100 IDs.\n",
      "20171213-185508: looking up user records for 100 IDs.\n",
      "20171213-185509: looking up user records for 100 IDs.\n",
      "20171213-185511: looking up user records for 100 IDs.\n",
      "20171213-185512: looking up user records for 100 IDs.\n",
      "20171213-185513: looking up user records for 100 IDs.\n",
      "20171213-185514: looking up user records for 100 IDs.\n",
      "20171213-185515: looking up user records for 100 IDs.\n",
      "20171213-185516: looking up user records for 100 IDs.\n",
      "20171213-185517: looking up user records for 100 IDs.\n",
      "20171213-185519: looking up user records for 100 IDs.\n",
      "20171213-185520: looking up user records for 100 IDs.\n",
      "20171213-185521: looking up user records for 100 IDs.\n",
      "20171213-185522: looking up user records for 100 IDs.\n",
      "20171213-185523: looking up user records for 100 IDs.\n",
      "20171213-185524: looking up user records for 100 IDs.\n",
      "20171213-185525: looking up user records for 100 IDs.\n",
      "20171213-185527: looking up user records for 100 IDs.\n",
      "20171213-185528: looking up user records for 100 IDs.\n",
      "20171213-185529: looking up user records for 100 IDs.\n",
      "20171213-185531: looking up user records for 100 IDs.\n",
      "20171213-185532: looking up user records for 100 IDs.\n",
      "20171213-185533: looking up user records for 100 IDs.\n",
      "20171213-185534: looking up user records for 100 IDs.\n",
      "20171213-185536: looking up user records for 100 IDs.\n",
      "20171213-185537: looking up user records for 100 IDs.\n",
      "20171213-185538: looking up user records for 100 IDs.\n",
      "20171213-185539: looking up user records for 100 IDs.\n",
      "20171213-185541: looking up user records for 100 IDs.\n",
      "20171213-185542: looking up user records for 100 IDs.\n",
      "20171213-185543: looking up user records for 100 IDs.\n",
      "20171213-185544: looking up user records for 100 IDs.\n",
      "20171213-185545: looking up user records for 100 IDs.\n",
      "20171213-185546: looking up user records for 100 IDs.\n",
      "20171213-185548: looking up user records for 100 IDs.\n",
      "20171213-185549: looking up user records for 100 IDs.\n",
      "20171213-185550: looking up user records for 100 IDs.\n",
      "20171213-185551: looking up user records for 100 IDs.\n",
      "20171213-185552: looking up user records for 100 IDs.\n",
      "20171213-185553: looking up user records for 100 IDs.\n",
      "20171213-185554: looking up user records for 100 IDs.\n",
      "20171213-185556: looking up user records for 100 IDs.\n",
      "20171213-185557: looking up user records for 100 IDs.\n",
      "20171213-185559: looking up user records for 100 IDs.\n",
      "20171213-185600: looking up user records for 100 IDs.\n",
      "20171213-185602: looking up user records for 100 IDs.\n",
      "20171213-185604: looking up user records for 100 IDs.\n",
      "20171213-185605: looking up user records for 100 IDs.\n",
      "20171213-185606: looking up user records for 100 IDs.\n",
      "20171213-185608: looking up user records for 100 IDs.\n",
      "20171213-185609: looking up user records for 100 IDs.\n",
      "20171213-185610: looking up user records for 100 IDs.\n",
      "20171213-185611: looking up user records for 100 IDs.\n",
      "20171213-185613: looking up user records for 100 IDs.\n",
      "20171213-185614: looking up user records for 100 IDs.\n"
     ]
    },
    {
     "name": "stdout",
     "output_type": "stream",
     "text": [
      "20171213-185615: looking up user records for 100 IDs.\n",
      "20171213-185616: looking up user records for 100 IDs.\n",
      "20171213-185618: looking up user records for 100 IDs.\n",
      "20171213-185618: looking up user records for 100 IDs.\n",
      "20171213-185620: looking up user records for 100 IDs.\n",
      "20171213-185621: looking up user records for 100 IDs.\n",
      "20171213-185623: looking up user records for 100 IDs.\n",
      "20171213-185624: looking up user records for 100 IDs.\n",
      "20171213-185625: looking up user records for 100 IDs.\n",
      "20171213-185626: looking up user records for 100 IDs.\n",
      "20171213-185627: looking up user records for 100 IDs.\n",
      "20171213-185628: looking up user records for 100 IDs.\n",
      "20171213-185629: looking up user records for 100 IDs.\n",
      "20171213-185631: looking up user records for 100 IDs.\n",
      "20171213-185632: looking up user records for 100 IDs.\n",
      "20171213-185633: looking up user records for 100 IDs.\n",
      "20171213-185634: looking up user records for 100 IDs.\n",
      "20171213-185635: looking up user records for 100 IDs.\n",
      "20171213-185637: looking up user records for 100 IDs.\n",
      "20171213-185638: looking up user records for 100 IDs.\n",
      "20171213-185639: looking up user records for 100 IDs.\n",
      "20171213-185640: looking up user records for 100 IDs.\n",
      "20171213-185641: looking up user records for 100 IDs.\n",
      "20171213-185643: looking up user records for 100 IDs.\n",
      "20171213-185644: looking up user records for 100 IDs.\n",
      "20171213-185645: looking up user records for 100 IDs.\n",
      "20171213-185646: looking up user records for 100 IDs.\n",
      "20171213-185648: looking up user records for 100 IDs.\n",
      "20171213-185649: looking up user records for 100 IDs.\n",
      "20171213-185650: looking up user records for 100 IDs.\n",
      "20171213-185651: looking up user records for 100 IDs.\n",
      "20171213-185653: looking up user records for 100 IDs.\n",
      "20171213-185654: looking up user records for 100 IDs.\n",
      "20171213-185655: looking up user records for 100 IDs.\n",
      "20171213-185656: looking up user records for 100 IDs.\n",
      "20171213-185658: looking up user records for 100 IDs.\n",
      "20171213-185659: looking up user records for 100 IDs.\n",
      "20171213-185701: looking up user records for 100 IDs.\n",
      "20171213-185703: looking up user records for 100 IDs.\n",
      "20171213-185705: looking up user records for 100 IDs.\n",
      "20171213-185706: looking up user records for 100 IDs.\n",
      "20171213-185707: looking up user records for 100 IDs.\n",
      "20171213-185708: looking up user records for 100 IDs.\n",
      "20171213-185710: looking up user records for 100 IDs.\n",
      "20171213-185711: looking up user records for 100 IDs.\n",
      "20171213-185712: looking up user records for 100 IDs.\n",
      "20171213-185713: looking up user records for 100 IDs.\n",
      "20171213-185715: looking up user records for 100 IDs.\n",
      "20171213-185716: looking up user records for 100 IDs.\n",
      "20171213-185717: looking up user records for 100 IDs.\n",
      "20171213-185718: looking up user records for 100 IDs.\n",
      "20171213-185720: looking up user records for 100 IDs.\n",
      "20171213-185721: looking up user records for 100 IDs.\n",
      "20171213-185722: looking up user records for 100 IDs.\n",
      "20171213-185723: looking up user records for 100 IDs.\n",
      "20171213-185724: looking up user records for 100 IDs.\n",
      "20171213-185725: looking up user records for 100 IDs.\n",
      "20171213-185727: looking up user records for 100 IDs.\n",
      "20171213-185728: looking up user records for 100 IDs.\n",
      "20171213-185729: looking up user records for 100 IDs.\n",
      "20171213-185730: looking up user records for 100 IDs.\n",
      "20171213-185731: looking up user records for 100 IDs.\n",
      "20171213-185733: looking up user records for 100 IDs.\n",
      "20171213-185734: looking up user records for 100 IDs.\n",
      "20171213-185735: looking up user records for 33 IDs.\n",
      "20171213-185736:  users pulled:  21533\n",
      "total failures: 0\n"
     ]
    }
   ],
   "source": [
    "# And now we'll \"hydrate\" these user records. \n",
    "# Note that this is going to print a lot of rows to the screen, \n",
    "# partially just so you can know it's working.  \n",
    "for start_id, list_of_followers in followers_of_starting.items() :\n",
    "    \n",
    "    # Using a set here instead of a list so that we pull each ID only once.\n",
    "    ids_to_hydrate = {id for id in list_of_followers if id not in all_records} \n",
    "    \n",
    "    these_records = lookup_users_from_ids(api,ids=ids_to_hydrate)\n",
    "\n",
    "    for id, rec in these_records.items() :\n",
    "        all_records[id] = rec\n"
   ]
  },
  {
   "cell_type": "code",
   "execution_count": 8,
   "metadata": {
    "collapsed": true
   },
   "outputs": [],
   "source": [
    "# Now let's write out all the records. I wrote some functions to help.\n",
    "with open(ofile_name,'w') as ofile :\n",
    "    write_user_rec_headers(ofile)\n",
    "    for id, rec in all_records.items() :\n",
    "        write_user_rec(ofile, rec)"
   ]
  }
 ],
 "metadata": {
  "kernelspec": {
   "display_name": "Python 3",
   "language": "python",
   "name": "python3"
  },
  "language_info": {
   "codemirror_mode": {
    "name": "ipython",
    "version": 3
   },
   "file_extension": ".py",
   "mimetype": "text/x-python",
   "name": "python",
   "nbconvert_exporter": "python",
   "pygments_lexer": "ipython3",
   "version": "3.6.1"
  }
 },
 "nbformat": 4,
 "nbformat_minor": 1
}
