{
 "cells": [
  {
   "cell_type": "code",
   "execution_count": 3,
   "metadata": {},
   "outputs": [],
   "source": [
    "working_d = ('/Users/hayleylose/Documents/MSBA Fall 2017/670 Applied Data Analytics/Vaccine Project/')\n",
    "import csv\n",
    "import re\n",
    "import random\n",
    "import nltk\n",
    "from nltk.sentiment import SentimentAnalyzer\n",
    "from nltk.sentiment.util import *\n",
    "import collections"
   ]
  },
  {
   "cell_type": "code",
   "execution_count": null,
   "metadata": {
    "collapsed": true
   },
   "outputs": [],
   "source": [
    "##putting the duplicates in a new csv\n",
    "with open('PLZWORK.csv','r') as in_file, open('OUT.csv','w') as out_file, open('DUPS.csv', 'w') as dup:\n",
    "    seen = set() # set for fast O(1) amortized lookup\n",
    "    for line in in_file:\n",
    "        if line in seen: continue # skip duplicate\n",
    "\n",
    "        seen.add(line)\n",
    "        out_file.write(line)\n",
    "        \n",
    "        for line in seen:\n",
    "            dup.write(line)"
   ]
  },
  {
   "cell_type": "code",
   "execution_count": null,
   "metadata": {
    "collapsed": true
   },
   "outputs": [],
   "source": [
    "#looking at locations and finding most common places\n",
    "loc = 'Locations.csv'\n",
    "\n",
    "loc_words = [] # create an empty list to store words in\n",
    "\n",
    "with open(working_d + loc, 'r', encoding = 'UTF-8') as input_file:\n",
    "    \n",
    "    for idx, line in enumerate(input_file.readlines()):\n",
    "        line = line.strip()\n",
    "        loc_words.append(line)\n",
    "        for line in loc_words:\n",
    "            break\n",
    "   \n",
    "\n",
    "counter = collections.Counter(loc_words)\n",
    "print(counter.most_common())\n",
    "\n"
   ]
  },
  {
   "cell_type": "code",
   "execution_count": 6,
   "metadata": {
    "collapsed": true
   },
   "outputs": [],
   "source": [
    "sentiment_scores = {}\n",
    "\n",
    "with open(working_d + \"tidytext_sentiments.txt\",'r') as infile :\n",
    "    next(infile)\n",
    "    for line in infile.readlines() :\n",
    "        line = line.strip().split(\"\\t\")\n",
    "        if line[1] == \"positive\" :\n",
    "            sentiment_scores[line[0]] = 1\n",
    "        else :\n",
    "            sentiment_scores[line[0]] = -1"
   ]
  },
  {
   "cell_type": "code",
   "execution_count": 7,
   "metadata": {},
   "outputs": [
    {
     "name": "stdout",
     "output_type": "stream",
     "text": [
      "abandon has score -1.\n",
      "abandoned has score -1.\n",
      "abandonment has score -1.\n",
      "abba has score 1.\n",
      "abduction has score -1.\n",
      "aberrant has score -1.\n",
      "aberration has score -1.\n",
      "abhor has score -1.\n",
      "abhorrent has score -1.\n",
      "ability has score 1.\n",
      "abject has score -1.\n",
      "abnormal has score -1.\n",
      "abolish has score -1.\n",
      "abolition has score -1.\n",
      "abominable has score -1.\n",
      "abomination has score -1.\n",
      "abort has score -1.\n",
      "abortion has score -1.\n",
      "abortive has score -1.\n",
      "abovementioned has score 1.\n",
      "abrasion has score -1.\n",
      "abrogate has score -1.\n",
      "abscess has score -1.\n",
      "absence has score -1.\n",
      "absent has score -1.\n",
      "absentee has score -1.\n",
      "absenteeism has score -1.\n",
      "absolute has score 1.\n",
      "absolution has score 1.\n",
      "absorbed has score 1.\n",
      "absurd has score -1.\n",
      "absurdity has score -1.\n"
     ]
    }
   ],
   "source": [
    "#setting up for sentiment\n",
    "for idx, word in enumerate(sentiment_scores) :\n",
    "    print(\"{} has score {}.\".format(word,sentiment_scores[word]))\n",
    "    if idx > 30 :\n",
    "        break"
   ]
  },
  {
   "cell_type": "code",
   "execution_count": 4,
   "metadata": {},
   "outputs": [
    {
     "data": {
      "text/plain": [
       "901212"
      ]
     },
     "execution_count": 4,
     "metadata": {},
     "output_type": "execute_result"
    }
   ],
   "source": [
    "bios = 'Bios.csv'\n",
    "bio_words = []\n",
    "\n",
    "with open(working_d + bios, 'r') as bio:\n",
    "    for idx, line in enumerate(bio):\n",
    "        line = line.strip().split(',')\n",
    "        for words in line:\n",
    "            words = words.split(' ')\n",
    "            for word in words:\n",
    "                bio_words.append(word)\n",
    "            \n",
    "\n",
    "len(bio_words)\n"
   ]
  },
  {
   "cell_type": "code",
   "execution_count": 8,
   "metadata": {},
   "outputs": [
    {
     "data": {
      "text/plain": [
       "901212"
      ]
     },
     "execution_count": 8,
     "metadata": {},
     "output_type": "execute_result"
    }
   ],
   "source": [
    "scores = [0] * len(bio_words)\n",
    "current_score = 0\n",
    "\n",
    "len(scores)"
   ]
  },
  {
   "cell_type": "code",
   "execution_count": 9,
   "metadata": {},
   "outputs": [
    {
     "name": "stdout",
     "output_type": "stream",
     "text": [
      "44865\n",
      "[0, 0, 0, 0, 0, 0, 0, 0, 0, 0]\n"
     ]
    }
   ],
   "source": [
    "#assessing sentiment\n",
    " \n",
    "for word in bio_words:\n",
    "    if word in sentiment_scores :\n",
    "        current_score += sentiment_scores[word.lower()]\n",
    "    \n",
    "    scores[idx] = current_score\n",
    "    \n",
    "print(current_score)    \n",
    "print(scores[:10])"
   ]
  },
  {
   "cell_type": "code",
   "execution_count": null,
   "metadata": {
    "collapsed": true
   },
   "outputs": [],
   "source": [
    "#writing sentiment scores to text file\n",
    "with open(\"FIX.txt\",'w') as ofile :\n",
    "    ofile.write(\"word\\tscore\\n\")\n",
    "    for idx, score in enumerate(scores) :\n",
    "        ofile.write(\"\\t\".join([str(idx+1),str(score)]) + \"\\n\")"
   ]
  },
  {
   "cell_type": "code",
   "execution_count": null,
   "metadata": {
    "collapsed": true
   },
   "outputs": [],
   "source": []
  }
 ],
 "metadata": {
  "kernelspec": {
   "display_name": "Python 3",
   "language": "python",
   "name": "python3"
  },
  "language_info": {
   "codemirror_mode": {
    "name": "ipython",
    "version": 3
   },
   "file_extension": ".py",
   "mimetype": "text/x-python",
   "name": "python",
   "nbconvert_exporter": "python",
   "pygments_lexer": "ipython3",
   "version": "3.6.1"
  }
 },
 "nbformat": 4,
 "nbformat_minor": 2
}
